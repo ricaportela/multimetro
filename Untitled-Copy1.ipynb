{
 "cells": [
  {
   "cell_type": "code",
   "execution_count": 34,
   "metadata": {
    "collapsed": true
   },
   "outputs": [],
   "source": [
    "import pandas as pd\n",
    "%matplotlib inline"
   ]
  },
  {
   "cell_type": "code",
   "execution_count": 35,
   "metadata": {
    "collapsed": true
   },
   "outputs": [],
   "source": [
    "df = pd.read_excel('excel/24_05_17.xlsx')"
   ]
  },
  {
   "cell_type": "code",
   "execution_count": 69,
   "metadata": {
    "scrolled": true
   },
   "outputs": [
    {
     "data": {
      "text/html": [
       "<div>\n",
       "<style>\n",
       "    .dataframe thead tr:only-child th {\n",
       "        text-align: right;\n",
       "    }\n",
       "\n",
       "    .dataframe thead th {\n",
       "        text-align: left;\n",
       "    }\n",
       "\n",
       "    .dataframe tbody tr th {\n",
       "        vertical-align: top;\n",
       "    }\n",
       "</style>\n",
       "<table border=\"1\" class=\"dataframe\">\n",
       "  <thead>\n",
       "    <tr style=\"text-align: right;\">\n",
       "      <th></th>\n",
       "      <th>No</th>\n",
       "      <th>Time</th>\n",
       "      <th>Func</th>\n",
       "      <th>Value</th>\n",
       "      <th>Unit</th>\n",
       "      <th>Auto</th>\n",
       "    </tr>\n",
       "  </thead>\n",
       "  <tbody>\n",
       "    <tr>\n",
       "      <th>0</th>\n",
       "      <td>1</td>\n",
       "      <td>2017-06-11 08:27:16</td>\n",
       "      <td>DC</td>\n",
       "      <td>0.023</td>\n",
       "      <td>A</td>\n",
       "      <td>A</td>\n",
       "    </tr>\n",
       "    <tr>\n",
       "      <th>1</th>\n",
       "      <td>2</td>\n",
       "      <td>2017-06-11 08:27:17</td>\n",
       "      <td>DC</td>\n",
       "      <td>0.023</td>\n",
       "      <td>A</td>\n",
       "      <td>A</td>\n",
       "    </tr>\n",
       "    <tr>\n",
       "      <th>2</th>\n",
       "      <td>3</td>\n",
       "      <td>2017-06-11 08:27:18</td>\n",
       "      <td>DC</td>\n",
       "      <td>0.023</td>\n",
       "      <td>A</td>\n",
       "      <td>A</td>\n",
       "    </tr>\n",
       "  </tbody>\n",
       "</table>\n",
       "</div>"
      ],
      "text/plain": [
       "   No                Time Func  Value Unit Auto\n",
       "0   1 2017-06-11 08:27:16   DC  0.023    A    A\n",
       "1   2 2017-06-11 08:27:17   DC  0.023    A    A\n",
       "2   3 2017-06-11 08:27:18   DC  0.023    A    A"
      ]
     },
     "execution_count": 69,
     "metadata": {},
     "output_type": "execute_result"
    }
   ],
   "source": [
    "df.head(3)"
   ]
  },
  {
   "cell_type": "code",
   "execution_count": 63,
   "metadata": {},
   "outputs": [
    {
     "data": {
      "text/plain": [
       "No                int64\n",
       "Time     datetime64[ns]\n",
       "Func             object\n",
       "Value           float64\n",
       "Unit             object\n",
       "Auto             object\n",
       "dtype: object"
      ]
     },
     "execution_count": 63,
     "metadata": {},
     "output_type": "execute_result"
    }
   ],
   "source": [
    "df.dtypes"
   ]
  },
  {
   "cell_type": "code",
   "execution_count": 62,
   "metadata": {
    "collapsed": true
   },
   "outputs": [],
   "source": [
    "df['Time'] = pd.to_datetime(df.Time)"
   ]
  },
  {
   "cell_type": "code",
   "execution_count": 64,
   "metadata": {},
   "outputs": [
    {
     "data": {
      "text/plain": [
       "0       2017-06-11 08:27:16\n",
       "1       2017-06-11 08:27:17\n",
       "2       2017-06-11 08:27:18\n",
       "3       2017-06-11 08:27:19\n",
       "4       2017-06-11 08:27:20\n",
       "5       2017-06-11 08:27:21\n",
       "6       2017-06-11 08:27:22\n",
       "7       2017-06-11 08:27:23\n",
       "8       2017-06-11 08:27:24\n",
       "9       2017-06-11 08:27:25\n",
       "10      2017-06-11 08:27:26\n",
       "11      2017-06-11 08:27:27\n",
       "12      2017-06-11 08:27:28\n",
       "13      2017-06-11 08:27:29\n",
       "14      2017-06-11 08:27:30\n",
       "15      2017-06-11 08:27:31\n",
       "16      2017-06-11 08:27:32\n",
       "17      2017-06-11 08:27:33\n",
       "18      2017-06-11 08:27:34\n",
       "19      2017-06-11 08:27:35\n",
       "20      2017-06-11 08:27:36\n",
       "21      2017-06-11 08:27:37\n",
       "22      2017-06-11 08:27:38\n",
       "23      2017-06-11 08:27:39\n",
       "24      2017-06-11 08:27:40\n",
       "25      2017-06-11 08:27:41\n",
       "26      2017-06-11 08:27:42\n",
       "27      2017-06-11 08:27:43\n",
       "28      2017-06-11 08:27:44\n",
       "29      2017-06-11 08:27:45\n",
       "                ...        \n",
       "65505   2017-06-11 02:43:37\n",
       "65506   2017-06-11 02:43:38\n",
       "65507   2017-06-11 02:43:39\n",
       "65508   2017-06-11 02:43:40\n",
       "65509   2017-06-11 02:43:41\n",
       "65510   2017-06-11 02:43:42\n",
       "65511   2017-06-11 02:43:43\n",
       "65512   2017-06-11 02:43:44\n",
       "65513   2017-06-11 02:43:45\n",
       "65514   2017-06-11 02:43:46\n",
       "65515   2017-06-11 02:43:47\n",
       "65516   2017-06-11 02:43:48\n",
       "65517   2017-06-11 02:43:49\n",
       "65518   2017-06-11 02:43:50\n",
       "65519   2017-06-11 02:43:51\n",
       "65520   2017-06-11 02:43:52\n",
       "65521   2017-06-11 02:43:53\n",
       "65522   2017-06-11 02:43:54\n",
       "65523   2017-06-11 02:43:55\n",
       "65524   2017-06-11 02:43:56\n",
       "65525   2017-06-11 02:43:57\n",
       "65526   2017-06-11 02:43:58\n",
       "65527   2017-06-11 02:43:59\n",
       "65528   2017-06-11 02:44:00\n",
       "65529   2017-06-11 02:44:01\n",
       "65530   2017-06-11 02:44:02\n",
       "65531   2017-06-11 02:44:03\n",
       "65532   2017-06-11 02:44:04\n",
       "65533   2017-06-11 02:44:05\n",
       "65534   2017-06-11 02:44:06\n",
       "Name: Time, Length: 65535, dtype: datetime64[ns]"
      ]
     },
     "execution_count": 64,
     "metadata": {},
     "output_type": "execute_result"
    }
   ],
   "source": [
    "Time"
   ]
  },
  {
   "cell_type": "code",
   "execution_count": 65,
   "metadata": {
    "collapsed": true
   },
   "outputs": [],
   "source": [
    "feature_cols = ['Time', 'Value']"
   ]
  },
  {
   "cell_type": "code",
   "execution_count": 66,
   "metadata": {},
   "outputs": [
    {
     "data": {
      "text/plain": [
       "['Time', 'Value']"
      ]
     },
     "execution_count": 66,
     "metadata": {},
     "output_type": "execute_result"
    }
   ],
   "source": [
    "feature_cols"
   ]
  },
  {
   "cell_type": "code",
   "execution_count": 67,
   "metadata": {
    "collapsed": true
   },
   "outputs": [],
   "source": [
    "# loc especifica quais colunas\n",
    "X = df.loc[1:, feature_cols]"
   ]
  },
  {
   "cell_type": "code",
   "execution_count": 68,
   "metadata": {},
   "outputs": [
    {
     "data": {
      "text/plain": [
       "<matplotlib.axes._subplots.AxesSubplot at 0x7f82b424ee10>"
      ]
     },
     "execution_count": 68,
     "metadata": {},
     "output_type": "execute_result"
    },
    {
     "data": {
      "image/png": "[encoded data removed]",
      "text/plain": [
       "<matplotlib.figure.Figure at 0x7f82b4b74160>"
      ]
     },
     "metadata": {},
     "output_type": "display_data"
    }
   ],
   "source": [
    "X.plot.hist()"
   ]
  },
  {
   "cell_type": "code",
   "execution_count": null,
   "metadata": {
    "collapsed": true
   },
   "outputs": [],
   "source": []
  }
 ],
 "metadata": {
  "kernelspec": {
   "display_name": "Python 3",
   "language": "python",
   "name": "python3"
  },
  "language_info": {
   "codemirror_mode": {
    "name": "ipython",
    "version": 3
   },
   "file_extension": ".py",
   "mimetype": "text/x-python",
   "name": "python",
   "nbconvert_exporter": "python",
   "pygments_lexer": "ipython3",
   "version": "3.6.1"
  }
 },
 "nbformat": 4,
 "nbformat_minor": 2
}
