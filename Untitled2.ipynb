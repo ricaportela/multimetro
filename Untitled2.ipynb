{
 "cells": [
  {
   "cell_type": "code",
   "execution_count": 22,
   "metadata": {},
   "outputs": [],
   "source": [
    "import pandas as pd\n",
    "import numpy as np\n",
    "import matplotlib.pyplot as plt\n",
    "from datetime import datetime\n",
    "\n",
    "import seaborn as sns\n",
    "# line below allows inline plotting in ipython notebooks\n",
    "%matplotlib inline \n",
    "plt.rcParams['figure.figsize'] = (20.0, 8.0) # make plots bigger by default"
   ]
  },
  {
   "cell_type": "code",
   "execution_count": 23,
   "metadata": {},
   "outputs": [],
   "source": [
    "parser =  lambda x: datetime.strptime(x,'%m/%d/%Y %H:%M:%S') ## needed for pandas to recognize this date format"
   ]
  },
  {
   "cell_type": "code",
   "execution_count": 28,
   "metadata": {},
   "outputs": [],
   "source": [
    "df = pd.read_excel('data/esgotarpilhas5.xlsx')"
   ]
  },
  {
   "cell_type": "code",
   "execution_count": 29,
   "metadata": {},
   "outputs": [
    {
     "data": {
      "text/html": [
       "<div>\n",
       "<style>\n",
       "    .dataframe thead tr:only-child th {\n",
       "        text-align: right;\n",
       "    }\n",
       "\n",
       "    .dataframe thead th {\n",
       "        text-align: left;\n",
       "    }\n",
       "\n",
       "    .dataframe tbody tr th {\n",
       "        vertical-align: top;\n",
       "    }\n",
       "</style>\n",
       "<table border=\"1\" class=\"dataframe\">\n",
       "  <thead>\n",
       "    <tr style=\"text-align: right;\">\n",
       "      <th></th>\n",
       "      <th>nro</th>\n",
       "      <th>date</th>\n",
       "      <th>time</th>\n",
       "      <th>date_time</th>\n",
       "      <th>tipo</th>\n",
       "      <th>valor</th>\n",
       "      <th>tipo1</th>\n",
       "      <th>tipo2</th>\n",
       "    </tr>\n",
       "  </thead>\n",
       "  <tbody>\n",
       "    <tr>\n",
       "      <th>0</th>\n",
       "      <td>262144</td>\n",
       "      <td>2017-01-01</td>\n",
       "      <td>09:27:26</td>\n",
       "      <td>1/1/17 09:27:26</td>\n",
       "      <td>DC</td>\n",
       "      <td>0.013</td>\n",
       "      <td>A</td>\n",
       "      <td>A</td>\n",
       "    </tr>\n",
       "    <tr>\n",
       "      <th>1</th>\n",
       "      <td>262145</td>\n",
       "      <td>2017-01-01</td>\n",
       "      <td>09:27:27</td>\n",
       "      <td>1/1/17 09:27:27</td>\n",
       "      <td>DC</td>\n",
       "      <td>0.013</td>\n",
       "      <td>A</td>\n",
       "      <td>A</td>\n",
       "    </tr>\n",
       "    <tr>\n",
       "      <th>2</th>\n",
       "      <td>262146</td>\n",
       "      <td>2017-01-01</td>\n",
       "      <td>09:27:28</td>\n",
       "      <td>1/1/17 09:27:28</td>\n",
       "      <td>DC</td>\n",
       "      <td>0.013</td>\n",
       "      <td>A</td>\n",
       "      <td>A</td>\n",
       "    </tr>\n",
       "  </tbody>\n",
       "</table>\n",
       "</div>"
      ],
      "text/plain": [
       "      nro       date      time        date_time tipo  valor tipo1 tipo2\n",
       "0  262144 2017-01-01  09:27:26  1/1/17 09:27:26   DC  0.013     A     A\n",
       "1  262145 2017-01-01  09:27:27  1/1/17 09:27:27   DC  0.013     A     A\n",
       "2  262146 2017-01-01  09:27:28  1/1/17 09:27:28   DC  0.013     A     A"
      ]
     },
     "execution_count": 29,
     "metadata": {},
     "output_type": "execute_result"
    }
   ],
   "source": [
    "df.head(3)"
   ]
  },
  {
   "cell_type": "code",
   "execution_count": null,
   "metadata": {
    "collapsed": true
   },
   "outputs": [],
   "source": []
  }
 ],
 "metadata": {
  "kernelspec": {
   "display_name": "Python 3",
   "language": "python",
   "name": "python3"
  },
  "language_info": {
   "codemirror_mode": {
    "name": "ipython",
    "version": 3
   },
   "file_extension": ".py",
   "mimetype": "text/x-python",
   "name": "python",
   "nbconvert_exporter": "python",
   "pygments_lexer": "ipython3",
   "version": "3.6.1"
  }
 },
 "nbformat": 4,
 "nbformat_minor": 2
}
